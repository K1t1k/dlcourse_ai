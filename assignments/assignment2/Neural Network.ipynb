{
 "cells": [
  {
   "cell_type": "markdown",
   "metadata": {},
   "source": [
    "# Задание 2.1 - Нейронные сети\n",
    "\n",
    "В этом задании вы реализуете и натренируете настоящую нейроную сеть своими руками!\n",
    "\n",
    "В некотором смысле это будет расширением прошлого задания - нам нужно просто составить несколько линейных классификаторов вместе!\n",
    "\n",
    "<img src=\"https://i.redd.it/n9fgba8b0qr01.png\" alt=\"Stack_more_layers\" width=\"400px\"/>"
   ]
  },
  {
   "cell_type": "code",
   "execution_count": 1,
   "metadata": {},
   "outputs": [],
   "source": [
    "import numpy as np\n",
    "import matplotlib.pyplot as plt\n",
    "\n",
    "%matplotlib inline\n",
    "\n",
    "%load_ext autoreload\n",
    "%autoreload 2"
   ]
  },
  {
   "cell_type": "code",
   "execution_count": 2,
   "metadata": {},
   "outputs": [],
   "source": [
    "from dataset import load_svhn, random_split_train_val\n",
    "from gradient_check import check_layer_gradient, check_layer_param_gradient, check_model_gradient\n",
    "from layers import FullyConnectedLayer, ReLULayer\n",
    "from model import TwoLayerNet\n",
    "from trainer import Trainer, Dataset\n",
    "from optim import SGD, MomentumSGD\n",
    "from metrics import multiclass_accuracy"
   ]
  },
  {
   "cell_type": "markdown",
   "metadata": {},
   "source": [
    "# Загружаем данные\n",
    "\n",
    "И разделяем их на training и validation."
   ]
  },
  {
   "cell_type": "code",
   "execution_count": 3,
   "metadata": {},
   "outputs": [],
   "source": [
    "def prepare_for_neural_network(train_X, test_X):\n",
    "    train_flat = train_X.reshape(train_X.shape[0], -1).astype(np.float) / 255.0\n",
    "    test_flat = test_X.reshape(test_X.shape[0], -1).astype(np.float) / 255.0\n",
    "    \n",
    "    # Subtract mean\n",
    "    mean_image = np.mean(train_flat, axis = 0)\n",
    "    train_flat -= mean_image\n",
    "    test_flat -= mean_image\n",
    "    \n",
    "    return train_flat, test_flat\n",
    "    \n",
    "train_X, train_y, test_X, test_y = load_svhn(\"data\", max_train=10000, max_test=1000)    \n",
    "train_X, test_X = prepare_for_neural_network(train_X, test_X)\n",
    "# Split train into train and val\n",
    "train_X, train_y, val_X, val_y = random_split_train_val(train_X, train_y, num_val = 1000)"
   ]
  },
  {
   "cell_type": "markdown",
   "metadata": {},
   "source": [
    "# Как всегда, начинаем с кирпичиков\n",
    "\n",
    "Мы будем реализовывать необходимые нам слои по очереди. Каждый слой должен реализовать:\n",
    "- прямой проход (forward pass), который генерирует выход слоя по входу и запоминает необходимые данные\n",
    "- обратный проход (backward pass), который получает градиент по выходу слоя и вычисляет градиент по входу и по параметрам\n",
    "\n",
    "Начнем с ReLU, у которого параметров нет."
   ]
  },
  {
   "cell_type": "code",
   "execution_count": 4,
   "metadata": {},
   "outputs": [],
   "source": [
    "import layers"
   ]
  },
  {
   "cell_type": "code",
   "execution_count": 5,
   "metadata": {},
   "outputs": [
    {
     "name": "stdout",
     "output_type": "stream",
     "text": [
      "Gradient check passed!\n"
     ]
    }
   ],
   "source": [
    "# TODO: Implement ReLULayer layer in layers.py\n",
    "# Note: you'll need to copy implementation of the gradient_check function from the previous assignment\n",
    "\n",
    "X = np.array([[1,-2,3],\n",
    "              [-1, 2, 0.1]\n",
    "              ])\n",
    "\n",
    "assert check_layer_gradient(ReLULayer(), X)"
   ]
  },
  {
   "cell_type": "markdown",
   "metadata": {},
   "source": [
    "А теперь реализуем полносвязный слой (fully connected layer), у которого будет два массива параметров: W (weights) и B (bias).\n",
    "\n",
    "Все параметры наши слои будут использовать для параметров специальный класс `Param`, в котором будут храниться значения параметров и градиенты этих параметров, вычисляемые во время обратного прохода.\n",
    "\n",
    "Это даст возможность аккумулировать (суммировать) градиенты из разных частей функции потерь, например, из cross-entropy loss и regularization loss."
   ]
  },
  {
   "cell_type": "code",
   "execution_count": 51,
   "metadata": {},
   "outputs": [
    {
     "data": {
      "text/plain": [
       "array([[ 0.25027059, -0.25017417, -0.25009492,  0.        ],\n",
       "       [-0.50054119,  0.50034834,  0.50018983,  0.        ],\n",
       "       [ 0.75081178,  0.02501742,  0.02500949,  0.        ]])"
      ]
     },
     "execution_count": 51,
     "metadata": {},
     "output_type": "execute_result"
    }
   ],
   "source": [
    "fcl = layers.FullyConnectedLayer(3, 4)\n",
    "rl = layers.ReLULayer()\n",
    "\n",
    "fc_out = fcl.forward(X)\n",
    "rl_out = rl.forward(fc_out)\n",
    "loss, grad = layers.softmax_with_cross_entropy(rl_out, np.array([[2], [3]]))\n",
    "\n",
    "rl_grad = rl.backward(grad)\n",
    "fcl.backward(rl_grad)"
   ]
  },
  {
   "cell_type": "code",
   "execution_count": 56,
   "metadata": {},
   "outputs": [
    {
     "name": "stdout",
     "output_type": "stream",
     "text": [
      "Gradient check passed!\n",
      "Gradient check passed!\n",
      "Gradient check passed!\n"
     ]
    }
   ],
   "source": [
    "# TODO: Implement FullyConnected layer forward and backward methods\n",
    "assert check_layer_gradient(FullyConnectedLayer(3, 4), X)\n",
    "# TODO: Implement storing gradients for W and B\n",
    "assert check_layer_param_gradient(FullyConnectedLayer(3, 4), X, 'W')\n",
    "assert check_layer_param_gradient(FullyConnectedLayer(3, 4), X, 'B')"
   ]
  },
  {
   "cell_type": "markdown",
   "metadata": {},
   "source": [
    "## Создаем нейронную сеть\n",
    "\n",
    "Теперь мы реализуем простейшую нейронную сеть с двумя полносвязным слоями и нелинейностью ReLU. Реализуйте функцию `compute_loss_and_gradients`, она должна запустить прямой и обратный проход через оба слоя для вычисления градиентов.\n",
    "\n",
    "Не забудьте реализовать очистку градиентов в начале функции."
   ]
  },
  {
   "cell_type": "code",
   "execution_count": 87,
   "metadata": {},
   "outputs": [
    {
     "data": {
      "text/plain": [
       "True"
      ]
     },
     "execution_count": 87,
     "metadata": {},
     "output_type": "execute_result"
    }
   ],
   "source": [
    "# TODO: In model.py, implement compute_loss_and_gradients function\n",
    "model = TwoLayerNet(n_input = train_X.shape[1], n_output = 10, hidden_layer_size = 3, reg = 0)\n",
    "loss = model.compute_loss_and_gradients(train_X[:2], train_y[:2])\n",
    "# TODO Now implement backward pass and aggregate all of the params\n",
    "check_model_gradient(model, train_X[:2], train_y[:2])"
   ]
  },
  {
   "cell_type": "markdown",
   "metadata": {},
   "source": [
    "Теперь добавьте к модели регуляризацию - она должна прибавляться к loss и делать свой вклад в градиенты."
   ]
  },
  {
   "cell_type": "code",
   "execution_count": 89,
   "metadata": {},
   "outputs": [
    {
     "data": {
      "text/plain": [
       "True"
      ]
     },
     "execution_count": 89,
     "metadata": {},
     "output_type": "execute_result"
    }
   ],
   "source": [
    "# TODO Now implement l2 regularization in the forward and backward pass\n",
    "model_with_reg = TwoLayerNet(n_input = train_X.shape[1], n_output = 10, hidden_layer_size = 3, reg = 1e1)\n",
    "loss_with_reg = model_with_reg.compute_loss_and_gradients(train_X[:2], train_y[:2])\n",
    "assert loss_with_reg > loss and not np.isclose(loss_with_reg, loss), \\\n",
    "    \"Loss with regularization (%2.4f) should be higher than without it (%2.4f)!\" % (loss, loss_with_reg)\n",
    "\n",
    "check_model_gradient(model_with_reg, train_X[:2], train_y[:2])"
   ]
  },
  {
   "cell_type": "markdown",
   "metadata": {},
   "source": [
    "Также реализуем функцию предсказания (вычисления значения) модели на новых данных.\n",
    "\n",
    "Какое значение точности мы ожидаем увидеть до начала тренировки?"
   ]
  },
  {
   "cell_type": "code",
   "execution_count": 91,
   "metadata": {},
   "outputs": [
    {
     "data": {
      "text/plain": [
       "0.16666666666666666"
      ]
     },
     "execution_count": 91,
     "metadata": {},
     "output_type": "execute_result"
    }
   ],
   "source": [
    "# Finally, implement predict function!\n",
    "\n",
    "# TODO: Implement predict function\n",
    "# What would be the value we expect?\n",
    "multiclass_accuracy(model_with_reg.predict(train_X[:30]), train_y[:30]) "
   ]
  },
  {
   "cell_type": "markdown",
   "metadata": {},
   "source": [
    "# Допишем код для процесса тренировки\n",
    "\n",
    "Если все реализовано корректно, значение функции ошибки должно уменьшаться с каждой эпохой, пусть и медленно. Не беспокойтесь пока про validation accuracy."
   ]
  },
  {
   "cell_type": "code",
   "execution_count": 167,
   "metadata": {},
   "outputs": [
    {
     "name": "stdout",
     "output_type": "stream",
     "text": [
      "Loss: 48.604311, Train accuracy: 0.196667, val accuracy: 0.206000\n",
      "Loss: 48.137702, Train accuracy: 0.196667, val accuracy: 0.206000\n",
      "Loss: 47.719709, Train accuracy: 0.196667, val accuracy: 0.206000\n",
      "Loss: 47.499006, Train accuracy: 0.196667, val accuracy: 0.206000\n",
      "Loss: 47.148582, Train accuracy: 0.196667, val accuracy: 0.206000\n",
      "Loss: 47.087704, Train accuracy: 0.196667, val accuracy: 0.206000\n",
      "Loss: 46.625874, Train accuracy: 0.196667, val accuracy: 0.206000\n",
      "Loss: 46.425360, Train accuracy: 0.196667, val accuracy: 0.206000\n",
      "Loss: 46.458473, Train accuracy: 0.196667, val accuracy: 0.206000\n",
      "Loss: 46.517355, Train accuracy: 0.196667, val accuracy: 0.206000\n",
      "Loss: 46.321953, Train accuracy: 0.196667, val accuracy: 0.206000\n",
      "Loss: 46.345858, Train accuracy: 0.196667, val accuracy: 0.206000\n",
      "Loss: 45.921689, Train accuracy: 0.196667, val accuracy: 0.206000\n",
      "Loss: 45.810810, Train accuracy: 0.196667, val accuracy: 0.206000\n",
      "Loss: 45.909649, Train accuracy: 0.196667, val accuracy: 0.206000\n",
      "Loss: 45.675756, Train accuracy: 0.196667, val accuracy: 0.206000\n",
      "Loss: 46.368042, Train accuracy: 0.196667, val accuracy: 0.206000\n",
      "Loss: 45.906198, Train accuracy: 0.196667, val accuracy: 0.206000\n",
      "Loss: 46.010345, Train accuracy: 0.196667, val accuracy: 0.206000\n",
      "Loss: 45.577869, Train accuracy: 0.196667, val accuracy: 0.206000\n"
     ]
    }
   ],
   "source": [
    "model = TwoLayerNet(n_input = train_X.shape[1], n_output = 10, hidden_layer_size = 100, reg = 1e1)\n",
    "dataset = Dataset(train_X, train_y, val_X, val_y)\n",
    "trainer = Trainer(model, dataset, SGD(), learning_rate = 1e-5)\n",
    "\n",
    "# TODO Implement missing pieces in Trainer.fit function\n",
    "# You should expect loss to go down every epoch, even if it's slow\n",
    "loss_history, train_history, val_history = trainer.fit()"
   ]
  },
  {
   "cell_type": "code",
   "execution_count": 168,
   "metadata": {},
   "outputs": [
    {
     "data": {
      "text/plain": [
       "[<matplotlib.lines.Line2D at 0x11b3a1c50>]"
      ]
     },
     "execution_count": 168,
     "metadata": {},
     "output_type": "execute_result"
    },
    {
     "data": {
      "image/png": "[encoded data removed]",
      "text/plain": [
       "<Figure size 432x288 with 1 Axes>"
      ]
     },
     "metadata": {
      "needs_background": "light"
     },
     "output_type": "display_data"
    }
   ],
   "source": [
    "plt.plot(train_history)\n",
    "plt.plot(val_history)"
   ]
  },
  {
   "cell_type": "markdown",
   "metadata": {},
   "source": [
    "# Улучшаем процесс тренировки\n",
    "\n",
    "Мы реализуем несколько ключевых оптимизаций, необходимых для тренировки современных нейросетей."
   ]
  },
  {
   "cell_type": "markdown",
   "metadata": {},
   "source": [
    "## Уменьшение скорости обучения (learning rate decay)\n",
    "\n",
    "Одна из необходимых оптимизаций во время тренировки нейронных сетей - постепенное уменьшение скорости обучения по мере тренировки.\n",
    "\n",
    "Один из стандартных методов - уменьшение скорости обучения (learning rate) каждые N эпох на коэффициент d (часто называемый decay). Значения N и d, как всегда, являются гиперпараметрами и должны подбираться на основе эффективности на проверочных данных (validation data). \n",
    "\n",
    "В нашем случае N будет равным 1."
   ]
  },
  {
   "cell_type": "code",
   "execution_count": 129,
   "metadata": {},
   "outputs": [
    {
     "name": "stdout",
     "output_type": "stream",
     "text": [
      "Loss: 42.533813, Train accuracy: 0.307667, val accuracy: 0.303000\n",
      "Loss: 29.044808, Train accuracy: 0.444778, val accuracy: 0.448000\n",
      "Loss: 30.694454, Train accuracy: 0.466667, val accuracy: 0.491000\n",
      "Loss: 35.612815, Train accuracy: 0.527222, val accuracy: 0.543000\n",
      "Loss: 31.095008, Train accuracy: 0.582667, val accuracy: 0.574000\n",
      "Loss: 36.012084, Train accuracy: 0.565333, val accuracy: 0.572000\n",
      "Loss: 35.302729, Train accuracy: 0.551778, val accuracy: 0.533000\n",
      "Loss: 30.093066, Train accuracy: 0.584000, val accuracy: 0.578000\n",
      "Loss: 26.530618, Train accuracy: 0.622889, val accuracy: 0.593000\n",
      "Loss: 38.297471, Train accuracy: 0.583333, val accuracy: 0.571000\n",
      "Loss: 32.631292, Train accuracy: 0.617778, val accuracy: 0.609000\n",
      "Loss: 34.043517, Train accuracy: 0.621000, val accuracy: 0.595000\n",
      "Loss: 34.287042, Train accuracy: 0.585778, val accuracy: 0.601000\n",
      "Loss: 42.360692, Train accuracy: 0.603111, val accuracy: 0.613000\n",
      "Loss: 42.656437, Train accuracy: 0.618333, val accuracy: 0.585000\n",
      "Loss: 31.131178, Train accuracy: 0.603889, val accuracy: 0.593000\n",
      "Loss: 32.741411, Train accuracy: 0.619111, val accuracy: 0.585000\n",
      "Loss: 36.022471, Train accuracy: 0.539667, val accuracy: 0.543000\n",
      "Loss: 35.339967, Train accuracy: 0.632444, val accuracy: 0.624000\n",
      "Loss: 35.901787, Train accuracy: 0.646556, val accuracy: 0.627000\n"
     ]
    }
   ],
   "source": [
    "# TODO Implement learning rate decay inside Trainer.fit method\n",
    "# Decay should happen once per epoch\n",
    "\n",
    "model = TwoLayerNet(n_input = train_X.shape[1], n_output = 10, hidden_layer_size = 100, reg = 1e-1)\n",
    "dataset = Dataset(train_X, train_y, val_X, val_y)\n",
    "trainer = Trainer(model, dataset, SGD(), learning_rate_decay=0.99)\n",
    "\n",
    "initial_learning_rate = trainer.learning_rate\n",
    "loss_history, train_history, val_history = trainer.fit()\n",
    "\n",
    "assert trainer.learning_rate < initial_learning_rate, \"Learning rate should've been reduced\"\n",
    "assert trainer.learning_rate > 0.5*initial_learning_rate, \"Learning rate shouldn'tve been reduced that much!\""
   ]
  },
  {
   "cell_type": "markdown",
   "metadata": {},
   "source": [
    "# Накопление импульса (Momentum SGD)\n",
    "\n",
    "Другой большой класс оптимизаций - использование более эффективных методов градиентного спуска. Мы реализуем один из них - накопление импульса (Momentum SGD).\n",
    "\n",
    "Этот метод хранит скорость движения, использует градиент для ее изменения на каждом шаге, и изменяет веса пропорционально значению скорости.\n",
    "(Физическая аналогия: Вместо скорости градиенты теперь будут задавать ускорение, но будет присутствовать сила трения.)\n",
    "\n",
    "```\n",
    "velocity = momentum * velocity - learning_rate * gradient \n",
    "w = w + velocity\n",
    "```\n",
    "\n",
    "`momentum` здесь коэффициент затухания, который тоже является гиперпараметром (к счастью, для него часто есть хорошее значение по умолчанию, типичный диапазон -- 0.8-0.99).\n",
    "\n",
    "Несколько полезных ссылок, где метод разбирается более подробно:  \n",
    "http://cs231n.github.io/neural-networks-3/#sgd  \n",
    "https://distill.pub/2017/momentum/"
   ]
  },
  {
   "cell_type": "code",
   "execution_count": 130,
   "metadata": {},
   "outputs": [
    {
     "name": "stdout",
     "output_type": "stream",
     "text": [
      "Loss: 45.478225, Train accuracy: 0.196667, val accuracy: 0.206000\n",
      "Loss: 45.667138, Train accuracy: 0.196667, val accuracy: 0.206000\n",
      "Loss: 42.390830, Train accuracy: 0.196667, val accuracy: 0.206000\n",
      "Loss: 42.670050, Train accuracy: 0.196667, val accuracy: 0.206000\n",
      "Loss: 42.882877, Train accuracy: 0.202667, val accuracy: 0.208000\n",
      "Loss: 41.527208, Train accuracy: 0.243000, val accuracy: 0.244000\n",
      "Loss: 44.829499, Train accuracy: 0.273556, val accuracy: 0.268000\n",
      "Loss: 39.459344, Train accuracy: 0.285556, val accuracy: 0.287000\n",
      "Loss: 39.931152, Train accuracy: 0.330000, val accuracy: 0.331000\n",
      "Loss: 38.959392, Train accuracy: 0.384667, val accuracy: 0.379000\n",
      "Loss: 33.765038, Train accuracy: 0.429111, val accuracy: 0.417000\n",
      "Loss: 38.809729, Train accuracy: 0.464222, val accuracy: 0.441000\n",
      "Loss: 30.889516, Train accuracy: 0.489667, val accuracy: 0.475000\n",
      "Loss: 32.248849, Train accuracy: 0.516556, val accuracy: 0.509000\n",
      "Loss: 33.604396, Train accuracy: 0.542444, val accuracy: 0.531000\n",
      "Loss: 26.999726, Train accuracy: 0.566111, val accuracy: 0.556000\n",
      "Loss: 31.355946, Train accuracy: 0.589667, val accuracy: 0.579000\n",
      "Loss: 28.601876, Train accuracy: 0.586667, val accuracy: 0.587000\n",
      "Loss: 30.161980, Train accuracy: 0.610889, val accuracy: 0.611000\n",
      "Loss: 30.184338, Train accuracy: 0.624778, val accuracy: 0.613000\n"
     ]
    }
   ],
   "source": [
    "# TODO: Implement MomentumSGD.update function in optim.py\n",
    "\n",
    "model = TwoLayerNet(n_input = train_X.shape[1], n_output = 10, hidden_layer_size = 100, reg = 1e-1)\n",
    "dataset = Dataset(train_X, train_y, val_X, val_y)\n",
    "trainer = Trainer(model, dataset, MomentumSGD(), learning_rate=1e-4, learning_rate_decay=0.99)\n",
    "\n",
    "# You should see even better results than before!\n",
    "loss_history, train_history, val_history = trainer.fit()"
   ]
  },
  {
   "cell_type": "markdown",
   "metadata": {},
   "source": [
    "# Ну что, давайте уже тренировать сеть!"
   ]
  },
  {
   "cell_type": "markdown",
   "metadata": {},
   "source": [
    "## Последний тест - переобучимся (overfit) на маленьком наборе данных\n",
    "\n",
    "Хороший способ проверить, все ли реализовано корректно - переобучить сеть на маленьком наборе данных.  \n",
    "Наша модель обладает достаточной мощностью, чтобы приблизить маленький набор данных идеально, поэтому мы ожидаем, что на нем мы быстро дойдем до 100% точности на тренировочном наборе. \n",
    "\n",
    "Если этого не происходит, то где-то была допущена ошибка!"
   ]
  },
  {
   "cell_type": "code",
   "execution_count": 145,
   "metadata": {},
   "outputs": [
    {
     "name": "stdout",
     "output_type": "stream",
     "text": [
      "Loss: 11.563231, Train accuracy: 0.200000, val accuracy: 0.066667\n",
      "Loss: 11.517835, Train accuracy: 0.200000, val accuracy: 0.066667\n",
      "Loss: 11.552843, Train accuracy: 0.266667, val accuracy: 0.066667\n",
      "Loss: 11.472890, Train accuracy: 0.333333, val accuracy: 0.066667\n",
      "Loss: 11.369080, Train accuracy: 0.333333, val accuracy: 0.066667\n",
      "Loss: 11.442454, Train accuracy: 0.266667, val accuracy: 0.000000\n",
      "Loss: 11.355635, Train accuracy: 0.266667, val accuracy: 0.000000\n",
      "Loss: 11.323866, Train accuracy: 0.266667, val accuracy: 0.000000\n",
      "Loss: 11.432619, Train accuracy: 0.266667, val accuracy: 0.000000\n",
      "Loss: 10.968362, Train accuracy: 0.266667, val accuracy: 0.000000\n",
      "Loss: 11.309406, Train accuracy: 0.266667, val accuracy: 0.000000\n",
      "Loss: 11.523223, Train accuracy: 0.266667, val accuracy: 0.000000\n",
      "Loss: 11.534479, Train accuracy: 0.266667, val accuracy: 0.000000\n",
      "Loss: 10.837883, Train accuracy: 0.266667, val accuracy: 0.000000\n",
      "Loss: 10.981531, Train accuracy: 0.266667, val accuracy: 0.000000\n",
      "Loss: 11.143398, Train accuracy: 0.400000, val accuracy: 0.000000\n",
      "Loss: 11.065089, Train accuracy: 0.400000, val accuracy: 0.000000\n",
      "Loss: 11.228350, Train accuracy: 0.400000, val accuracy: 0.000000\n",
      "Loss: 11.447900, Train accuracy: 0.400000, val accuracy: 0.000000\n",
      "Loss: 9.975150, Train accuracy: 0.400000, val accuracy: 0.000000\n",
      "Loss: 10.157850, Train accuracy: 0.400000, val accuracy: 0.000000\n",
      "Loss: 9.289764, Train accuracy: 0.400000, val accuracy: 0.000000\n",
      "Loss: 9.562365, Train accuracy: 0.400000, val accuracy: 0.000000\n",
      "Loss: 11.295661, Train accuracy: 0.400000, val accuracy: 0.000000\n",
      "Loss: 8.239246, Train accuracy: 0.400000, val accuracy: 0.000000\n",
      "Loss: 8.168363, Train accuracy: 0.400000, val accuracy: 0.000000\n",
      "Loss: 10.550139, Train accuracy: 0.400000, val accuracy: 0.000000\n",
      "Loss: 10.849927, Train accuracy: 0.400000, val accuracy: 0.000000\n",
      "Loss: 7.256815, Train accuracy: 0.400000, val accuracy: 0.000000\n",
      "Loss: 7.649172, Train accuracy: 0.400000, val accuracy: 0.000000\n",
      "Loss: 7.573674, Train accuracy: 0.400000, val accuracy: 0.000000\n",
      "Loss: 8.824338, Train accuracy: 0.400000, val accuracy: 0.000000\n",
      "Loss: 10.118854, Train accuracy: 0.400000, val accuracy: 0.000000\n",
      "Loss: 8.091958, Train accuracy: 0.400000, val accuracy: 0.000000\n",
      "Loss: 7.356654, Train accuracy: 0.466667, val accuracy: 0.066667\n",
      "Loss: 8.831272, Train accuracy: 0.466667, val accuracy: 0.066667\n",
      "Loss: 7.451411, Train accuracy: 0.466667, val accuracy: 0.000000\n",
      "Loss: 7.626092, Train accuracy: 0.466667, val accuracy: 0.000000\n",
      "Loss: 8.416826, Train accuracy: 0.466667, val accuracy: 0.066667\n",
      "Loss: 9.786595, Train accuracy: 0.466667, val accuracy: 0.066667\n",
      "Loss: 5.434732, Train accuracy: 0.466667, val accuracy: 0.066667\n",
      "Loss: 8.100741, Train accuracy: 0.466667, val accuracy: 0.066667\n",
      "Loss: 7.968020, Train accuracy: 0.466667, val accuracy: 0.066667\n",
      "Loss: 8.346364, Train accuracy: 0.533333, val accuracy: 0.066667\n",
      "Loss: 6.649143, Train accuracy: 0.666667, val accuracy: 0.066667\n",
      "Loss: 7.475458, Train accuracy: 0.533333, val accuracy: 0.066667\n",
      "Loss: 7.019941, Train accuracy: 0.533333, val accuracy: 0.066667\n",
      "Loss: 6.452553, Train accuracy: 0.666667, val accuracy: 0.066667\n",
      "Loss: 5.845562, Train accuracy: 0.666667, val accuracy: 0.066667\n",
      "Loss: 7.200114, Train accuracy: 0.666667, val accuracy: 0.066667\n",
      "Loss: 6.873772, Train accuracy: 0.666667, val accuracy: 0.066667\n",
      "Loss: 8.003645, Train accuracy: 0.666667, val accuracy: 0.066667\n",
      "Loss: 7.210362, Train accuracy: 0.666667, val accuracy: 0.066667\n",
      "Loss: 3.745228, Train accuracy: 0.666667, val accuracy: 0.066667\n",
      "Loss: 7.563326, Train accuracy: 0.666667, val accuracy: 0.066667\n",
      "Loss: 3.848802, Train accuracy: 0.800000, val accuracy: 0.066667\n",
      "Loss: 6.835717, Train accuracy: 0.800000, val accuracy: 0.066667\n",
      "Loss: 5.961544, Train accuracy: 0.800000, val accuracy: 0.066667\n",
      "Loss: 3.349074, Train accuracy: 0.800000, val accuracy: 0.066667\n",
      "Loss: 5.225786, Train accuracy: 0.800000, val accuracy: 0.066667\n",
      "Loss: 5.359413, Train accuracy: 0.800000, val accuracy: 0.066667\n",
      "Loss: 2.252781, Train accuracy: 0.800000, val accuracy: 0.066667\n",
      "Loss: 3.429702, Train accuracy: 0.800000, val accuracy: 0.066667\n",
      "Loss: 5.223947, Train accuracy: 0.800000, val accuracy: 0.066667\n",
      "Loss: 4.421149, Train accuracy: 0.800000, val accuracy: 0.066667\n",
      "Loss: 3.926157, Train accuracy: 0.800000, val accuracy: 0.066667\n",
      "Loss: 4.225522, Train accuracy: 0.800000, val accuracy: 0.066667\n",
      "Loss: 5.430605, Train accuracy: 0.800000, val accuracy: 0.066667\n",
      "Loss: 8.297405, Train accuracy: 0.800000, val accuracy: 0.066667\n",
      "Loss: 4.652961, Train accuracy: 0.800000, val accuracy: 0.066667\n",
      "Loss: 4.800398, Train accuracy: 0.800000, val accuracy: 0.066667\n",
      "Loss: 6.056023, Train accuracy: 0.800000, val accuracy: 0.066667\n",
      "Loss: 4.512402, Train accuracy: 0.800000, val accuracy: 0.066667\n",
      "Loss: 1.876974, Train accuracy: 0.800000, val accuracy: 0.066667\n",
      "Loss: 5.111662, Train accuracy: 0.800000, val accuracy: 0.066667\n",
      "Loss: 3.602366, Train accuracy: 0.800000, val accuracy: 0.000000\n",
      "Loss: 1.582589, Train accuracy: 0.800000, val accuracy: 0.000000\n",
      "Loss: 4.612066, Train accuracy: 0.800000, val accuracy: 0.000000\n",
      "Loss: 3.789592, Train accuracy: 0.800000, val accuracy: 0.000000\n",
      "Loss: 1.817681, Train accuracy: 0.800000, val accuracy: 0.000000\n",
      "Loss: 4.889882, Train accuracy: 0.800000, val accuracy: 0.000000\n",
      "Loss: 5.724410, Train accuracy: 0.800000, val accuracy: 0.000000\n",
      "Loss: 3.702279, Train accuracy: 0.800000, val accuracy: 0.000000\n",
      "Loss: 1.665950, Train accuracy: 0.866667, val accuracy: 0.000000\n",
      "Loss: 2.408125, Train accuracy: 0.866667, val accuracy: 0.000000\n",
      "Loss: 1.455138, Train accuracy: 0.866667, val accuracy: 0.000000\n",
      "Loss: 1.242878, Train accuracy: 0.866667, val accuracy: 0.000000\n",
      "Loss: 3.322691, Train accuracy: 0.866667, val accuracy: 0.000000\n",
      "Loss: 3.032223, Train accuracy: 0.866667, val accuracy: 0.000000\n",
      "Loss: 3.860527, Train accuracy: 0.933333, val accuracy: 0.000000\n",
      "Loss: 3.326582, Train accuracy: 0.933333, val accuracy: 0.000000\n",
      "Loss: 4.060203, Train accuracy: 0.933333, val accuracy: 0.000000\n",
      "Loss: 3.991276, Train accuracy: 0.933333, val accuracy: 0.000000\n",
      "Loss: 1.413840, Train accuracy: 1.000000, val accuracy: 0.000000\n",
      "Loss: 2.728986, Train accuracy: 1.000000, val accuracy: 0.000000\n",
      "Loss: 2.577572, Train accuracy: 1.000000, val accuracy: 0.000000\n",
      "Loss: 3.266897, Train accuracy: 1.000000, val accuracy: 0.000000\n",
      "Loss: 2.162457, Train accuracy: 1.000000, val accuracy: 0.000000\n",
      "Loss: 2.566957, Train accuracy: 1.000000, val accuracy: 0.000000\n",
      "Loss: 2.441526, Train accuracy: 1.000000, val accuracy: 0.000000\n",
      "Loss: 2.351084, Train accuracy: 1.000000, val accuracy: 0.000000\n",
      "Loss: 2.251928, Train accuracy: 1.000000, val accuracy: 0.000000\n",
      "Loss: 3.290603, Train accuracy: 1.000000, val accuracy: 0.000000\n",
      "Loss: 2.822760, Train accuracy: 1.000000, val accuracy: 0.000000\n",
      "Loss: 1.720850, Train accuracy: 1.000000, val accuracy: 0.000000\n",
      "Loss: 1.960715, Train accuracy: 1.000000, val accuracy: 0.000000\n",
      "Loss: 1.433421, Train accuracy: 1.000000, val accuracy: 0.000000\n",
      "Loss: 1.602133, Train accuracy: 1.000000, val accuracy: 0.000000\n",
      "Loss: 2.735460, Train accuracy: 1.000000, val accuracy: 0.000000\n",
      "Loss: 2.327920, Train accuracy: 1.000000, val accuracy: 0.000000\n",
      "Loss: 1.718499, Train accuracy: 1.000000, val accuracy: 0.000000\n",
      "Loss: 2.336395, Train accuracy: 1.000000, val accuracy: 0.000000\n",
      "Loss: 1.807828, Train accuracy: 1.000000, val accuracy: 0.000000\n",
      "Loss: 2.487411, Train accuracy: 1.000000, val accuracy: 0.000000\n",
      "Loss: 2.033013, Train accuracy: 1.000000, val accuracy: 0.000000\n",
      "Loss: 2.577722, Train accuracy: 1.000000, val accuracy: 0.000000\n",
      "Loss: 2.329011, Train accuracy: 1.000000, val accuracy: 0.000000\n",
      "Loss: 1.650434, Train accuracy: 1.000000, val accuracy: 0.000000\n",
      "Loss: 2.121378, Train accuracy: 1.000000, val accuracy: 0.000000\n",
      "Loss: 2.660394, Train accuracy: 1.000000, val accuracy: 0.000000\n",
      "Loss: 1.898594, Train accuracy: 1.000000, val accuracy: 0.000000\n",
      "Loss: 1.872599, Train accuracy: 1.000000, val accuracy: 0.000000\n",
      "Loss: 1.662763, Train accuracy: 1.000000, val accuracy: 0.000000\n",
      "Loss: 1.969546, Train accuracy: 1.000000, val accuracy: 0.000000\n",
      "Loss: 1.909976, Train accuracy: 1.000000, val accuracy: 0.000000\n",
      "Loss: 2.272559, Train accuracy: 1.000000, val accuracy: 0.000000\n",
      "Loss: 1.696504, Train accuracy: 1.000000, val accuracy: 0.000000\n",
      "Loss: 1.731622, Train accuracy: 1.000000, val accuracy: 0.000000\n",
      "Loss: 1.782605, Train accuracy: 1.000000, val accuracy: 0.000000\n",
      "Loss: 2.095466, Train accuracy: 1.000000, val accuracy: 0.000000\n",
      "Loss: 2.082771, Train accuracy: 1.000000, val accuracy: 0.000000\n",
      "Loss: 1.802384, Train accuracy: 1.000000, val accuracy: 0.000000\n",
      "Loss: 1.988420, Train accuracy: 1.000000, val accuracy: 0.000000\n",
      "Loss: 1.775887, Train accuracy: 1.000000, val accuracy: 0.000000\n",
      "Loss: 2.048783, Train accuracy: 1.000000, val accuracy: 0.000000\n",
      "Loss: 2.030491, Train accuracy: 1.000000, val accuracy: 0.000000\n",
      "Loss: 2.034552, Train accuracy: 1.000000, val accuracy: 0.000000\n",
      "Loss: 1.780690, Train accuracy: 1.000000, val accuracy: 0.000000\n",
      "Loss: 1.700613, Train accuracy: 1.000000, val accuracy: 0.000000\n",
      "Loss: 1.759707, Train accuracy: 1.000000, val accuracy: 0.000000\n",
      "Loss: 1.972260, Train accuracy: 1.000000, val accuracy: 0.000000\n",
      "Loss: 1.980218, Train accuracy: 1.000000, val accuracy: 0.000000\n",
      "Loss: 1.686002, Train accuracy: 1.000000, val accuracy: 0.000000\n",
      "Loss: 1.925167, Train accuracy: 1.000000, val accuracy: 0.000000\n",
      "Loss: 1.819837, Train accuracy: 1.000000, val accuracy: 0.000000\n",
      "Loss: 1.774826, Train accuracy: 1.000000, val accuracy: 0.000000\n",
      "Loss: 1.814258, Train accuracy: 1.000000, val accuracy: 0.000000\n",
      "Loss: 1.882128, Train accuracy: 1.000000, val accuracy: 0.000000\n",
      "Loss: 1.733875, Train accuracy: 1.000000, val accuracy: 0.000000\n",
      "Loss: 1.732052, Train accuracy: 1.000000, val accuracy: 0.000000\n"
     ]
    }
   ],
   "source": [
    "data_size = 15\n",
    "model = TwoLayerNet(n_input = train_X.shape[1], n_output = 10, hidden_layer_size = 100, reg = 1e-1)\n",
    "dataset = Dataset(train_X[:data_size], train_y[:data_size], val_X[:data_size], val_y[:data_size])\n",
    "trainer = Trainer(model, dataset, SGD(), learning_rate=0.01, num_epochs=150, batch_size=5)\n",
    "\n",
    "# You should expect this to reach 1.0 training accuracy \n",
    "loss_history, train_history, val_history = trainer.fit()"
   ]
  },
  {
   "cell_type": "markdown",
   "metadata": {},
   "source": [
    "Теперь найдем гипепараметры, для которых этот процесс сходится быстрее.\n",
    "Если все реализовано корректно, то существуют параметры, при которых процесс сходится в **20** эпох или еще быстрее.\n",
    "Найдите их!"
   ]
  },
  {
   "cell_type": "code",
   "execution_count": 155,
   "metadata": {},
   "outputs": [
    {
     "name": "stdout",
     "output_type": "stream",
     "text": [
      "Loss: 11.579431, Train accuracy: 0.200000, val accuracy: 0.133333\n",
      "Loss: 11.460335, Train accuracy: 0.200000, val accuracy: 0.133333\n",
      "Loss: 11.526839, Train accuracy: 0.200000, val accuracy: 0.133333\n",
      "Loss: 11.680437, Train accuracy: 0.200000, val accuracy: 0.133333\n",
      "Loss: 11.029123, Train accuracy: 0.266667, val accuracy: 0.000000\n",
      "Loss: 10.142371, Train accuracy: 0.400000, val accuracy: 0.000000\n",
      "Loss: 8.809558, Train accuracy: 0.400000, val accuracy: 0.000000\n",
      "Loss: 7.413398, Train accuracy: 0.400000, val accuracy: 0.000000\n",
      "Loss: 10.256147, Train accuracy: 0.466667, val accuracy: 0.000000\n",
      "Loss: 7.453836, Train accuracy: 0.400000, val accuracy: 0.133333\n",
      "Loss: 7.189049, Train accuracy: 0.533333, val accuracy: 0.066667\n",
      "Loss: 8.755959, Train accuracy: 0.533333, val accuracy: 0.000000\n",
      "Loss: 6.346957, Train accuracy: 0.733333, val accuracy: 0.066667\n",
      "Loss: 5.559525, Train accuracy: 0.666667, val accuracy: 0.000000\n",
      "Loss: 3.954795, Train accuracy: 0.800000, val accuracy: 0.000000\n",
      "Loss: 5.039667, Train accuracy: 0.800000, val accuracy: 0.066667\n",
      "Loss: 3.710749, Train accuracy: 0.800000, val accuracy: 0.066667\n",
      "Loss: 5.277621, Train accuracy: 0.866667, val accuracy: 0.000000\n",
      "Loss: 3.016605, Train accuracy: 0.866667, val accuracy: 0.000000\n",
      "Loss: 3.471122, Train accuracy: 1.000000, val accuracy: 0.000000\n"
     ]
    }
   ],
   "source": [
    "# Now, tweak some hyper parameters and make it train to 1.0 accuracy in 20 epochs or less\n",
    "\n",
    "model = TwoLayerNet(n_input = train_X.shape[1], n_output = 10, hidden_layer_size = 100, reg = 1e-1)\n",
    "dataset = Dataset(train_X[:data_size], train_y[:data_size], val_X[:data_size], val_y[:data_size])\n",
    "# TODO: Change any hyperparamers or optimizators to reach training accuracy in 20 epochs\n",
    "trainer = Trainer(model, dataset, MomentumSGD(), learning_rate=0.01, num_epochs=20, batch_size=5)\n",
    "\n",
    "loss_history, train_history, val_history = trainer.fit()"
   ]
  },
  {
   "cell_type": "markdown",
   "metadata": {},
   "source": [
    "# Итак, основное мероприятие!\n",
    "\n",
    "Натренируйте лучшую нейросеть! Можно добавлять и изменять параметры, менять количество нейронов в слоях сети и как угодно экспериментировать. \n",
    "\n",
    "Добейтесь точности лучше **60%** на validation set."
   ]
  },
  {
   "cell_type": "code",
   "execution_count": 198,
   "metadata": {
    "scrolled": true
   },
   "outputs": [
    {
     "name": "stdout",
     "output_type": "stream",
     "text": [
      "############################### 0.0001 - 0.001 - 256 - 8 ################################\n",
      "Loss: 16.119796, Train accuracy: 0.000000, val accuracy: 0.066667\n",
      "Loss: 15.278978, Train accuracy: 0.266667, val accuracy: 0.000000\n",
      "Loss: 11.720001, Train accuracy: 0.400000, val accuracy: 0.000000\n",
      "############################### 0.0001 - 0.001 - 256 - 16 ################################\n",
      "Loss: 34.540260, Train accuracy: 0.066667, val accuracy: 0.000000\n",
      "Loss: 33.670724, Train accuracy: 0.266667, val accuracy: 0.000000\n",
      "Loss: 27.610002, Train accuracy: 0.400000, val accuracy: 0.000000\n",
      "############################### 0.0001 - 0.001 - 256 - 32 ################################\n",
      "Loss: 34.541772, Train accuracy: 0.133333, val accuracy: 0.066667\n",
      "Loss: 33.616333, Train accuracy: 0.266667, val accuracy: 0.000000\n",
      "Loss: 27.316893, Train accuracy: 0.400000, val accuracy: 0.000000\n",
      "############################### 0.0001 - 0.001 - 256 - 64 ################################\n",
      "Loss: 34.534939, Train accuracy: 0.133333, val accuracy: 0.133333\n",
      "Loss: 33.607814, Train accuracy: 0.200000, val accuracy: 0.133333\n",
      "Loss: 27.010798, Train accuracy: 0.400000, val accuracy: 0.000000\n",
      "############################### 0.0001 - 0.001 - 1024 - 8 ################################\n",
      "Loss: 16.120503, Train accuracy: 0.133333, val accuracy: 0.133333\n",
      "Loss: 15.181778, Train accuracy: 0.400000, val accuracy: 0.000000\n",
      "Loss: 11.365000, Train accuracy: 0.333333, val accuracy: 0.000000\n",
      "############################### 0.0001 - 0.001 - 1024 - 16 ################################\n",
      "Loss: 34.537423, Train accuracy: 0.133333, val accuracy: 0.133333\n",
      "Loss: 32.947508, Train accuracy: 0.400000, val accuracy: 0.000000\n",
      "Loss: 24.321197, Train accuracy: 0.333333, val accuracy: 0.000000\n",
      "############################### 0.0001 - 0.001 - 1024 - 32 ################################\n",
      "Loss: 34.545340, Train accuracy: 0.133333, val accuracy: 0.000000\n",
      "Loss: 32.927792, Train accuracy: 0.400000, val accuracy: 0.000000\n",
      "Loss: 24.337613, Train accuracy: 0.333333, val accuracy: 0.000000\n",
      "############################### 0.0001 - 0.001 - 1024 - 64 ################################\n",
      "Loss: 34.547472, Train accuracy: 0.066667, val accuracy: 0.066667\n",
      "Loss: 32.864957, Train accuracy: 0.400000, val accuracy: 0.000000\n",
      "Loss: 24.330381, Train accuracy: 0.333333, val accuracy: 0.000000\n",
      "############################### 0.0001 - 0.001 - 4096 - 8 ################################\n",
      "Loss: 16.127013, Train accuracy: 0.133333, val accuracy: 0.133333\n",
      "Loss: 14.391060, Train accuracy: 0.400000, val accuracy: 0.000000\n",
      "Loss: 10.428160, Train accuracy: 0.400000, val accuracy: 0.000000\n",
      "############################### 0.0001 - 0.001 - 4096 - 16 ################################\n",
      "Loss: 34.556923, Train accuracy: 0.000000, val accuracy: 0.133333\n",
      "Loss: 30.787309, Train accuracy: 0.400000, val accuracy: 0.000000\n",
      "Loss: 22.138910, Train accuracy: 0.400000, val accuracy: 0.000000\n"
     ]
    },
    {
     "ename": "KeyboardInterrupt",
     "evalue": "",
     "output_type": "error",
     "traceback": [
      "\u001b[0;31m---------------------------------------------------------------------------\u001b[0m",
      "\u001b[0;31mKeyboardInterrupt\u001b[0m                         Traceback (most recent call last)",
      "\u001b[0;32m<ipython-input-198-9417c74eec71>\u001b[0m in \u001b[0;36m<module>\u001b[0;34m\u001b[0m\n\u001b[1;32m     25\u001b[0m                 \u001b[0mtrainer\u001b[0m \u001b[0;34m=\u001b[0m \u001b[0mTrainer\u001b[0m\u001b[0;34m(\u001b[0m\u001b[0mmodel\u001b[0m\u001b[0;34m,\u001b[0m \u001b[0mdataset\u001b[0m\u001b[0;34m,\u001b[0m \u001b[0mMomentumSGD\u001b[0m\u001b[0;34m(\u001b[0m\u001b[0;34m)\u001b[0m\u001b[0;34m,\u001b[0m \u001b[0mlearning_rate\u001b[0m\u001b[0;34m=\u001b[0m\u001b[0mle\u001b[0m\u001b[0;34m,\u001b[0m \u001b[0mnum_epochs\u001b[0m\u001b[0;34m=\u001b[0m\u001b[0mnum_epochs\u001b[0m\u001b[0;34m,\u001b[0m \u001b[0mbatch_size\u001b[0m\u001b[0;34m=\u001b[0m\u001b[0mbs\u001b[0m\u001b[0;34m)\u001b[0m\u001b[0;34m\u001b[0m\u001b[0;34m\u001b[0m\u001b[0m\n\u001b[1;32m     26\u001b[0m \u001b[0;34m\u001b[0m\u001b[0m\n\u001b[0;32m---> 27\u001b[0;31m                 \u001b[0mloss_history\u001b[0m\u001b[0;34m,\u001b[0m \u001b[0mtrain_history\u001b[0m\u001b[0;34m,\u001b[0m \u001b[0mval_history\u001b[0m \u001b[0;34m=\u001b[0m \u001b[0mtrainer\u001b[0m\u001b[0;34m.\u001b[0m\u001b[0mfit\u001b[0m\u001b[0;34m(\u001b[0m\u001b[0;34m)\u001b[0m\u001b[0;34m\u001b[0m\u001b[0;34m\u001b[0m\u001b[0m\n\u001b[0m\u001b[1;32m     28\u001b[0m \u001b[0;34m\u001b[0m\u001b[0m\n\u001b[1;32m     29\u001b[0m                 \u001b[0;32mif\u001b[0m \u001b[0mmax\u001b[0m\u001b[0;34m(\u001b[0m\u001b[0mval_history\u001b[0m\u001b[0;34m)\u001b[0m \u001b[0;34m>\u001b[0m \u001b[0mbest_val_accuracy\u001b[0m\u001b[0;34m:\u001b[0m\u001b[0;34m\u001b[0m\u001b[0;34m\u001b[0m\u001b[0m\n",
      "\u001b[0;32m~/dlcourse_ai/assignments/assignment2/trainer.py\u001b[0m in \u001b[0;36mfit\u001b[0;34m(self)\u001b[0m\n\u001b[1;32m    105\u001b[0m                 \u001b[0;32mfor\u001b[0m \u001b[0mparam_name\u001b[0m\u001b[0;34m,\u001b[0m \u001b[0mparam\u001b[0m \u001b[0;32min\u001b[0m \u001b[0mself\u001b[0m\u001b[0;34m.\u001b[0m\u001b[0mmodel\u001b[0m\u001b[0;34m.\u001b[0m\u001b[0mparams\u001b[0m\u001b[0;34m(\u001b[0m\u001b[0;34m)\u001b[0m\u001b[0;34m.\u001b[0m\u001b[0mitems\u001b[0m\u001b[0;34m(\u001b[0m\u001b[0;34m)\u001b[0m\u001b[0;34m:\u001b[0m\u001b[0;34m\u001b[0m\u001b[0;34m\u001b[0m\u001b[0m\n\u001b[1;32m    106\u001b[0m                         \u001b[0moptimizer\u001b[0m \u001b[0;34m=\u001b[0m \u001b[0mself\u001b[0m\u001b[0;34m.\u001b[0m\u001b[0moptimizers\u001b[0m\u001b[0;34m[\u001b[0m\u001b[0mparam_name\u001b[0m\u001b[0;34m]\u001b[0m\u001b[0;34m\u001b[0m\u001b[0;34m\u001b[0m\u001b[0m\n\u001b[0;32m--> 107\u001b[0;31m                         \u001b[0mparam\u001b[0m\u001b[0;34m.\u001b[0m\u001b[0mvalue\u001b[0m \u001b[0;34m=\u001b[0m \u001b[0moptimizer\u001b[0m\u001b[0;34m.\u001b[0m\u001b[0mupdate\u001b[0m\u001b[0;34m(\u001b[0m\u001b[0mparam\u001b[0m\u001b[0;34m.\u001b[0m\u001b[0mvalue\u001b[0m\u001b[0;34m,\u001b[0m \u001b[0mparam\u001b[0m\u001b[0;34m.\u001b[0m\u001b[0mgrad\u001b[0m\u001b[0;34m,\u001b[0m \u001b[0mself\u001b[0m\u001b[0;34m.\u001b[0m\u001b[0mlearning_rate\u001b[0m\u001b[0;34m)\u001b[0m\u001b[0;34m\u001b[0m\u001b[0;34m\u001b[0m\u001b[0m\n\u001b[0m\u001b[1;32m    108\u001b[0m \u001b[0;34m\u001b[0m\u001b[0m\n\u001b[1;32m    109\u001b[0m                 \u001b[0mbatch_losses\u001b[0m\u001b[0;34m.\u001b[0m\u001b[0mappend\u001b[0m\u001b[0;34m(\u001b[0m\u001b[0mloss\u001b[0m\u001b[0;34m)\u001b[0m\u001b[0;34m\u001b[0m\u001b[0;34m\u001b[0m\u001b[0m\n",
      "\u001b[0;32m~/dlcourse_ai/assignments/assignment2/optim.py\u001b[0m in \u001b[0;36mupdate\u001b[0;34m(self, w, d_w, learning_rate)\u001b[0m\n\u001b[1;32m     42\u001b[0m         \"\"\"\n\u001b[1;32m     43\u001b[0m \u001b[0;34m\u001b[0m\u001b[0m\n\u001b[0;32m---> 44\u001b[0;31m         \u001b[0mself\u001b[0m\u001b[0;34m.\u001b[0m\u001b[0mvelocity\u001b[0m \u001b[0;34m=\u001b[0m \u001b[0mself\u001b[0m\u001b[0;34m.\u001b[0m\u001b[0mmomentum\u001b[0m \u001b[0;34m*\u001b[0m \u001b[0mself\u001b[0m\u001b[0;34m.\u001b[0m\u001b[0mvelocity\u001b[0m \u001b[0;34m-\u001b[0m \u001b[0mlearning_rate\u001b[0m \u001b[0;34m*\u001b[0m \u001b[0md_w\u001b[0m\u001b[0;34m\u001b[0m\u001b[0;34m\u001b[0m\u001b[0m\n\u001b[0m\u001b[1;32m     45\u001b[0m         \u001b[0mw\u001b[0m \u001b[0;34m=\u001b[0m \u001b[0mw\u001b[0m \u001b[0;34m+\u001b[0m \u001b[0mself\u001b[0m\u001b[0;34m.\u001b[0m\u001b[0mvelocity\u001b[0m\u001b[0;34m\u001b[0m\u001b[0;34m\u001b[0m\u001b[0m\n\u001b[1;32m     46\u001b[0m         \u001b[0;32mreturn\u001b[0m \u001b[0mw\u001b[0m\u001b[0;34m\u001b[0m\u001b[0;34m\u001b[0m\u001b[0m\n",
      "\u001b[0;31mKeyboardInterrupt\u001b[0m: "
     ]
    }
   ],
   "source": [
    "# Let's train the best one-hidden-layer network we can\n",
    "\n",
    "learning_rates = [1e-4, 1e-3, 1e-2]\n",
    "reg_strength = [1e-3, 1e-1, 10, 100]\n",
    "learning_rate_decay = 0.999\n",
    "hidden_layer_size = [256, 1024, 4096]\n",
    "num_epochs = 300\n",
    "batch_size = [8, 16, 32, 64]\n",
    "\n",
    "best_classifier = None\n",
    "best_val_accuracy = 0\n",
    "\n",
    "loss_history = []\n",
    "train_history = []\n",
    "val_history = []\n",
    "\n",
    "\n",
    "for le in learning_rates:\n",
    "    for rs in reg_strength:\n",
    "        for hls in hidden_layer_size:\n",
    "            for bs in batch_size:\n",
    "                print('############################### {} - {} - {} - {} ################################'.format(le, rs, hls, bs))\n",
    "                model = TwoLayerNet(n_input = train_X.shape[1], n_output = 10, hidden_layer_size = hls, reg = rs)\n",
    "                dataset = Dataset(train_X[:data_size], train_y[:data_size], val_X[:data_size], val_y[:data_size])\n",
    "                trainer = Trainer(model, dataset, MomentumSGD(), learning_rate=le, num_epochs=num_epochs, batch_size=bs)\n",
    "\n",
    "                loss_history, train_history, val_history = trainer.fit()\n",
    "\n",
    "                if max(val_history) > best_val_accuracy:\n",
    "                    best_val_accuracy = max(val_history)\n",
    "                    best_classifier = model\n",
    "    \n",
    "    \n",
    "# TODO find the best hyperparameters to train the network\n",
    "# Don't hesitate to add new values to the arrays above, perform experiments, use any tricks you want\n",
    "# You should expect to get to at least 40% of valudation accuracy\n",
    "# Save loss/train/history of the best classifier to the variables above\n",
    "\n",
    "print('best validation accuracy achieved: %f' % best_val_accuracy)"
   ]
  },
  {
   "cell_type": "code",
   "execution_count": 191,
   "metadata": {},
   "outputs": [
    {
     "data": {
      "text/plain": [
       "[<matplotlib.lines.Line2D at 0x117a1cc18>]"
      ]
     },
     "execution_count": 191,
     "metadata": {},
     "output_type": "execute_result"
    },
    {
     "data": {
      "image/png": "[encoded data removed]",
      "text/plain": [
       "<Figure size 1080x504 with 2 Axes>"
      ]
     },
     "metadata": {
      "needs_background": "light"
     },
     "output_type": "display_data"
    }
   ],
   "source": [
    "plt.figure(figsize=(15, 7))\n",
    "plt.subplot(211)\n",
    "plt.title(\"Loss\")\n",
    "plt.plot(loss_history)\n",
    "plt.subplot(212)\n",
    "plt.title(\"Train/validation accuracy\")\n",
    "plt.plot(train_history)\n",
    "plt.plot(val_history)"
   ]
  },
  {
   "cell_type": "markdown",
   "metadata": {},
   "source": [
    "# Как обычно, посмотрим, как наша лучшая модель работает на тестовых данных"
   ]
  },
  {
   "cell_type": "code",
   "execution_count": 158,
   "metadata": {},
   "outputs": [
    {
     "ename": "AttributeError",
     "evalue": "'NoneType' object has no attribute 'predict'",
     "output_type": "error",
     "traceback": [
      "\u001b[0;31m---------------------------------------------------------------------------\u001b[0m",
      "\u001b[0;31mAttributeError\u001b[0m                            Traceback (most recent call last)",
      "\u001b[0;32m<ipython-input-158-83c278478367>\u001b[0m in \u001b[0;36m<module>\u001b[0;34m\u001b[0m\n\u001b[0;32m----> 1\u001b[0;31m \u001b[0mtest_pred\u001b[0m \u001b[0;34m=\u001b[0m \u001b[0mbest_classifier\u001b[0m\u001b[0;34m.\u001b[0m\u001b[0mpredict\u001b[0m\u001b[0;34m(\u001b[0m\u001b[0mtest_X\u001b[0m\u001b[0;34m)\u001b[0m\u001b[0;34m\u001b[0m\u001b[0;34m\u001b[0m\u001b[0m\n\u001b[0m\u001b[1;32m      2\u001b[0m \u001b[0mtest_accuracy\u001b[0m \u001b[0;34m=\u001b[0m \u001b[0mmulticlass_accuracy\u001b[0m\u001b[0;34m(\u001b[0m\u001b[0mtest_pred\u001b[0m\u001b[0;34m,\u001b[0m \u001b[0mtest_y\u001b[0m\u001b[0;34m)\u001b[0m\u001b[0;34m\u001b[0m\u001b[0;34m\u001b[0m\u001b[0m\n\u001b[1;32m      3\u001b[0m \u001b[0mprint\u001b[0m\u001b[0;34m(\u001b[0m\u001b[0;34m'Neural net test set accuracy: %f'\u001b[0m \u001b[0;34m%\u001b[0m \u001b[0;34m(\u001b[0m\u001b[0mtest_accuracy\u001b[0m\u001b[0;34m,\u001b[0m \u001b[0;34m)\u001b[0m\u001b[0;34m)\u001b[0m\u001b[0;34m\u001b[0m\u001b[0;34m\u001b[0m\u001b[0m\n",
      "\u001b[0;31mAttributeError\u001b[0m: 'NoneType' object has no attribute 'predict'"
     ]
    }
   ],
   "source": [
    "test_pred = best_classifier.predict(test_X)\n",
    "test_accuracy = multiclass_accuracy(test_pred, test_y)\n",
    "print('Neural net test set accuracy: %f' % (test_accuracy, ))"
   ]
  },
  {
   "cell_type": "code",
   "execution_count": null,
   "metadata": {},
   "outputs": [],
   "source": []
  }
 ],
 "metadata": {
  "kernelspec": {
   "display_name": "Python 3",
   "language": "python",
   "name": "python3"
  },
  "language_info": {
   "codemirror_mode": {
    "name": "ipython",
    "version": 3
   },
   "file_extension": ".py",
   "mimetype": "text/x-python",
   "name": "python",
   "nbconvert_exporter": "python",
   "pygments_lexer": "ipython3",
   "version": "3.7.3"
  }
 },
 "nbformat": 4,
 "nbformat_minor": 4
}
